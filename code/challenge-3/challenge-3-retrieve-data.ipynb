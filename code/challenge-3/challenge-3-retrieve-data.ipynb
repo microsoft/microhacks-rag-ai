{
 "cells": [
  {
   "cell_type": "markdown",
   "id": "cdf18d7d-f7fa-47dd-b4e5-42a0e2ab5d0d",
   "metadata": {},
   "source": [
    "## RAG Microhack Challenge 3: Retrieve Data from Azure AI Search\n",
    "\n",
    "__In this challenge, attendees will perform following tasks:__\n",
    "1. Connect with Azure AI Search service\n",
    "2. Querying of Azure AI Search vector index\n",
    "3. Understanding of vectors\n",
    "4. Retrieval of  document relevant to the search query\n",
    "5. Understanding various search options (basic, semantic, vector & hybrid search)\n",
    "\n",
    "__Pre-requisites:__\n",
    "1. Azure OpenAI Service is created with text-embedding-ada-002 embedding model.\n",
    "2. Azure AI Search service is created\n",
    "3. Sample data is indexed in the AI Search service. HR Benefits sample data is provided in this repo."
   ]
  },
  {
   "cell_type": "markdown",
   "id": "33b87e14-c0ad-41c8-a36b-e9fdae4e6ede",
   "metadata": {},
   "source": [
    "### Step 1: Update ai_search.env file with your AI Search & AOAI service details. \n",
    "\n",
    "``Example ai_search.env file below.``\n",
    "\n",
    "<img src=\"attachment:510cc22e-73d5-46a1-a20a-5791b889f38b.png\" width=60% style=\"display: block; margin: auto;\">\n",
    "\n",
    "\n",
    "It is a good practive to put service configuration in a dot env file in Python. We will specify AI Search service configuration in ai_search.env file and use that to connect to the AI Search service you have created in the previous challenges"
   ]
  },
  {
   "cell_type": "markdown",
   "id": "e82ddcb2",
   "metadata": {},
   "source": [
    "First we will install required packages for interacting with Azure AI Search."
   ]
  },
  {
   "cell_type": "code",
   "execution_count": null,
   "id": "0fc6aac5",
   "metadata": {},
   "outputs": [],
   "source": [
    "%%bash\n",
    "pip install numpy\n",
    "pip install python-dotenv\n",
    "pip install azure-search-documents\n",
    "pip install openai\n",
    "pip install --upgrade pip"
   ]
  },
  {
   "cell_type": "code",
   "execution_count": null,
   "id": "8a6f1cea-c831-4fa0-8425-3312710c777c",
   "metadata": {},
   "outputs": [],
   "source": [
    "from dotenv import dotenv_values"
   ]
  },
  {
   "cell_type": "code",
   "execution_count": null,
   "id": "44f1082c-106c-40fe-abe1-4da0779e5f97",
   "metadata": {},
   "outputs": [],
   "source": [
    "# specify the name of the .env file name (default is ai_search.env)\n",
    "env_filename = \"ai_search.env\"\n",
    "\n",
    "# Load AI Search configuration (endpoint, key etc) from the environment file\n",
    "env_config = dotenv_values(env_filename)"
   ]
  },
  {
   "cell_type": "code",
   "execution_count": null,
   "id": "65fa3222-db86-4ad7-80a5-577132590607",
   "metadata": {},
   "outputs": [],
   "source": [
    "# Import the environment variable values\n",
    "ai_search_endpoint = env_config[\"AI_SEARCH_ENDPOINT\"]\n",
    "ai_search_key = env_config[\"AI_SEARCH_KEY\"]\n",
    "ai_search_index_name = env_config[\"AI_SEARCH_INDEX_NAME\"]\n",
    "ai_search_semantic_config_name = env_config[\"AI_SEARCH_SEMANTIC_CONFIG_NAME\"]"
   ]
  },
  {
   "cell_type": "code",
   "execution_count": null,
   "id": "4a9f0064-f40d-4000-a1f5-9db1799a9414",
   "metadata": {},
   "outputs": [],
   "source": [
    "# Print the AI Search configuration values\n",
    "print(\"AI Search service endpoint is: \", ai_search_endpoint, \" and index name is: \", ai_search_index_name)"
   ]
  },
  {
   "cell_type": "markdown",
   "id": "0a022717-0cfd-4fa1-9087-3103b06309f7",
   "metadata": {},
   "source": [
    "### Step 2: Connect to AI Search service"
   ]
  },
  {
   "cell_type": "code",
   "execution_count": null,
   "id": "872ce7a1-f59a-4225-85cc-05a1626439ab",
   "metadata": {},
   "outputs": [],
   "source": [
    "# Import Required Python libraries for Azure AI Search and foundational packages\n",
    "from azure.core.credentials import AzureKeyCredential  \n",
    "from azure.search.documents import SearchClient "
   ]
  },
  {
   "cell_type": "code",
   "execution_count": null,
   "id": "3d55badb-2c05-41d9-a05b-d103a140f247",
   "metadata": {},
   "outputs": [],
   "source": [
    "ai_search_credential = AzureKeyCredential(ai_search_key)  \n",
    "\n",
    "# Instantiate AI Search service client\n",
    "ai_search_client = SearchClient(endpoint=ai_search_endpoint,  \n",
    "                      index_name=ai_search_index_name,  \n",
    "                      credential=ai_search_credential)  "
   ]
  },
  {
   "cell_type": "markdown",
   "id": "6a12db7f-78af-4a5b-8662-924b350a11d1",
   "metadata": {},
   "source": [
    "### Step 3: Perform Basic Search using Azure AI Search service\n",
    "Azure AI Search provides several options to customize your search queries. Here, we will explore basic, semantic, vector and hybrid search options.h:"
   ]
  },
  {
   "cell_type": "code",
   "execution_count": null,
   "id": "2b1d55a2-bd08-4502-b789-804c5ef6b403",
   "metadata": {},
   "outputs": [],
   "source": [
    "# Run basic search against your AI Search and print results\n",
    "simple_query_results = ai_search_client.search(search_text=\"does my plan cover dental exam\", top=3)  \n",
    "  \n",
    "for i, result in enumerate(simple_query_results):  \n",
    "    print(\"****** SEARCH RESULT# :\", i+1, \" CONTENT ******\", \"Search score: \", result[\"@search.score\"])\n",
    "    ## Only printing 1000 characters from each matching document. Adjust as needed\n",
    "    print(result[\"content\"][0:1000]) \n",
    "    print(\"Source Document: \", result[\"filepath\"], \"\\n\" ) "
   ]
  },
  {
   "cell_type": "markdown",
   "id": "595e72ba-9c87-47d3-a781-d23aa70d2241",
   "metadata": {},
   "source": [
    "### Step 4: Perform Semantic Search using Azure AI Search service\n",
    "\n",
    "Semantic search uses AI to understand the context of the search query and retrieve more relevant results."
   ]
  },
  {
   "cell_type": "code",
   "execution_count": null,
   "id": "a9d39dae-e9a0-4772-a715-8605db3988d5",
   "metadata": {},
   "outputs": [],
   "source": [
    "print(\"Running Semantic search using config: \", ai_search_semantic_config_name)\n",
    "semantic_query_results = list(\n",
    "        ai_search_client.search(\n",
    "            search_text=\"does my plan cover dental exam\",\n",
    "            query_type=\"semantic\",\n",
    "            query_answer=\"extractive\",\n",
    "            query_answer_count=3,\n",
    "            top=3,\n",
    "            semantic_configuration_name=ai_search_semantic_config_name,\n",
    "        )\n",
    "    )"
   ]
  },
  {
   "cell_type": "code",
   "execution_count": null,
   "id": "9535c870-0a41-42c0-8922-1399ddfda640",
   "metadata": {},
   "outputs": [],
   "source": [
    "for i, result in enumerate(semantic_query_results):  \n",
    "    print(\"****** SEARCH RESULT#:\", i+1, \" CONTENT ******\", \"Search score:\", \n",
    "          result[\"@search.score\"], \" Semantic Reranker Score:\", result[\"@search.reranker_score\"])\n",
    "    ## Only printing 1000 characters from each matching document. Adjust as needed\n",
    "    print(result[\"content\"][0:100]) \n",
    "    print(\"Source Document: \", result[\"filepath\"], \"\\n\" ) "
   ]
  },
  {
   "cell_type": "markdown",
   "id": "a2f64c70-531e-4039-8453-83bf96979887",
   "metadata": {},
   "source": [
    "### Step 5: Perform Vector Search using Azure AI Search service\n",
    "\n",
    "``What Are Vectors? `` \n",
    "Vectors are mathematical representations of data points in a multi-dimensional space. In the context of Azure AI Search and machine learning, vectors are used to represent textual data, images, or other data types in a way that captures the inherent relationships and similarities between different data points. Each vector is typically a list of numbers (floats) that define the position of a data point in the vector space."
   ]
  },
  {
   "cell_type": "code",
   "execution_count": null,
   "id": "2c01c41d-ab04-46e8-bdba-ee303941b3ab",
   "metadata": {},
   "outputs": [],
   "source": [
    "from openai import AzureOpenAI\n",
    "import requests\n",
    "import json"
   ]
  },
  {
   "cell_type": "code",
   "execution_count": null,
   "id": "198c1b60-6232-46eb-8a49-2eab9ef39e31",
   "metadata": {},
   "outputs": [],
   "source": [
    "aoai_api_key = env_config[\"AOAI_KEY\"]\n",
    "aoai_endpoint = env_config[\"AOAI_ENDPOINT\"]\n",
    "aoai_embedding_deployment_name= env_config[\"AOAI_EMBEDDING_DEPLOYMENT_NAME\"]"
   ]
  },
  {
   "cell_type": "code",
   "execution_count": null,
   "id": "263357c8-d8ea-4371-a091-211ae688b738",
   "metadata": {},
   "outputs": [],
   "source": [
    "# Initialize the Azure OpenAI client\n",
    "aoai_client = AzureOpenAI(\n",
    "  api_key = aoai_api_key,  \n",
    "  api_version = \"2024-02-01\",\n",
    "  azure_endpoint = aoai_endpoint\n",
    ")"
   ]
  },
  {
   "cell_type": "code",
   "execution_count": null,
   "id": "a39ede22-b821-46ee-87ff-0a6189d9c972",
   "metadata": {},
   "outputs": [],
   "source": [
    "# 1. Create a vector embedding for a query using Azure OpenAI embedding API\n",
    "search_text = \"does my plan cover dental exam\"\n",
    "search_text_embedding = aoai_client.embeddings.create(input = [search_text], model=aoai_embedding_deployment_name).data[0].embedding"
   ]
  },
  {
   "cell_type": "code",
   "execution_count": null,
   "id": "2c3c6d51-1fe8-44a1-8656-dce9f63e43f1",
   "metadata": {},
   "outputs": [],
   "source": [
    "# Here is how the query \"does my plan cover dental exam\" looks when converted to a vector\n",
    "print(\"Length of the vector embeddings: \", len(search_text_embedding))\n",
    "print(search_text_embedding)"
   ]
  },
  {
   "cell_type": "markdown",
   "id": "71a854ef-b28c-4f7b-ba70-e3beb9b106da",
   "metadata": {},
   "source": [
    "#### Note on embeddings size\n",
    "The embedding vector size depends on the model used to create embedding. We are using OpenAI \"text-embedding-ada-002\" model which gives vectors of dimension 1536. You can see (below) Azure AI Search index has \"contentVector\" field of the same dimension.\n",
    "\n",
    "<img src=\"attachment:65bc7ef2-6e39-41de-a869-52a8fa99fd41.png\" width=70% style=\"display: block; margin: auto;\">\n"
   ]
  },
  {
   "cell_type": "markdown",
   "id": "92203945-2fb6-4443-bdd6-4ea0de88ee14",
   "metadata": {},
   "source": [
    "##### Perform Vector search using the search query embeddings"
   ]
  },
  {
   "cell_type": "code",
   "execution_count": null,
   "id": "e6429051-6e93-41b9-834d-0478c86e9712",
   "metadata": {},
   "outputs": [],
   "source": [
    "endpoint = f\"{ai_search_endpoint}/indexes/{ai_search_index_name}/docs/search?api-version=2023-11-01\"\n",
    "\n",
    "# Headers for the request\n",
    "headers = {\n",
    "    \"Content-Type\": \"application/json\",\n",
    "    \"api-key\": ai_search_key,\n",
    "}\n",
    "\n",
    "# Payload for the vector search\n",
    "payload = {\n",
    "        \"count\": True,\n",
    "        \"vectorQueries\": [\n",
    "            {\n",
    "                \"vector\": search_text_embedding,\n",
    "                \"k\": 5,\n",
    "                \"fields\": \"contentVector\",\n",
    "                \"kind\": \"vector\",\n",
    "                \"exhaustive\": True\n",
    "            }\n",
    "        ]\n",
    "    }"
   ]
  },
  {
   "cell_type": "code",
   "execution_count": null,
   "id": "20f8f2e1-36b3-43d6-aa35-680d573138fa",
   "metadata": {},
   "outputs": [],
   "source": [
    "# Perform vector search - Note that you are just sending vector embeddings as the search data\n",
    "response = requests.post(endpoint, headers=headers, data=json.dumps(payload))"
   ]
  },
  {
   "cell_type": "code",
   "execution_count": null,
   "id": "c85bdb00-169c-411b-bf33-b59c70b1591b",
   "metadata": {},
   "outputs": [],
   "source": [
    "# Check for successful response\n",
    "if response.status_code == 200:\n",
    "    results = response.json()\n",
    "    print(\"Search results:\")\n",
    "    for result in results.get(\"value\", []):\n",
    "        print(result)\n",
    "else:\n",
    "    print(f\"Error: {response.status_code}, {response.text}\")"
   ]
  },
  {
   "cell_type": "markdown",
   "id": "b3fd86b3-8ed3-4b48-9004-a9004c0dd45f",
   "metadata": {},
   "source": [
    "#### [OPTIONAL] Step 6: Semantic Search via REST API to get @semantic.answer"
   ]
  },
  {
   "cell_type": "code",
   "execution_count": null,
   "id": "51b642f5-34cc-4296-a20a-5e9ac5e454b6",
   "metadata": {},
   "outputs": [],
   "source": [
    "import requests\n",
    "import json\n",
    "\n",
    "url = f\"{ai_search_endpoint}/indexes/{ai_search_index_name}/docs\"\n",
    "headers = {\n",
    "    \"Content-Type\": \"application/json\",\n",
    "    \"api-key\": ai_search_key\n",
    "}\n",
    "params = {\n",
    "    \"api-version\": \"2024-09-01-preview\",\n",
    "    \"search\": \"does my plan cover eye exams\",\n",
    "    \"queryType\": \"semantic\",\n",
    "    \"answers\": \"extractive|count-3\",\n",
    "    \"semanticConfiguration\": ai_search_semantic_config_name,  \n",
    "    \"top\": 3  \n",
    "}\n",
    "\n",
    "response = requests.get(url, headers=headers, params=params)\n",
    "data = response.json()\n",
    "print(json.dumps(data, indent=4))"
   ]
  },
  {
   "cell_type": "code",
   "execution_count": null,
   "id": "b0089dc9-001c-4bc7-8d85-9af39235e454",
   "metadata": {},
   "outputs": [],
   "source": [
    "# Print answers provided by the semantic search\n",
    "data[\"@search.answers\"]"
   ]
  },
  {
   "cell_type": "code",
   "execution_count": null,
   "id": "cb3468e9-9dac-4fe3-a75e-baf5ace17c59",
   "metadata": {},
   "outputs": [],
   "source": [
    "def search_ai_search(query_text, top=3):\n",
    "    url = f\"{ai_search_endpoint}/indexes/{ai_search_index_name}/docs\"\n",
    "    headers = {\n",
    "        \"Content-Type\": \"application/json\",\n",
    "        \"api-key\": ai_search_key\n",
    "    }\n",
    "    params = {\n",
    "        \"api-version\": \"2024-09-01-preview\",\n",
    "        \"search\": query_text,\n",
    "        \"queryType\": \"semantic\",\n",
    "        \"answers\": \"extractive|count-3\",\n",
    "        \"semanticConfiguration\": ai_search_semantic_config_name,  \n",
    "        \"top\": top  \n",
    "    }\n",
    "    \n",
    "    response = requests.get(url, headers=headers, params=params)\n",
    "    \n",
    "    if response.status_code == 200:\n",
    "        data = response.json()\n",
    "        return data\n",
    "    else:\n",
    "        return None\n",
    "    \n"
   ]
  },
  {
   "cell_type": "markdown",
   "id": "50d8ec93",
   "metadata": {},
   "source": [
    "## Interactive Vector Search\n",
    "Update the below 'query_text' value to see how the vector search response to different queries.\n",
    "\n",
    "### **Important:** \n",
    "The below results are the results that the Semantic Kernal (orchestrator) receives. It then passes the top N results to the Azure OpenAI model, and allows the model to process the results. The model makes sense of the results before sending a more human-like chat like response to the user.\n",
    "\n",
    "### Example Flow:\n",
    "User input text -> Semantic Kernal -> Model -> Semantic Kernal -> Vector Index -> Vector Search Results -> Semantic Kernal -> Model -> User output response text"
   ]
  },
  {
   "cell_type": "code",
   "execution_count": null,
   "id": "99944b5a",
   "metadata": {},
   "outputs": [],
   "source": [
    "# Test the function with a query\n",
    "# OPTIONAL: Change the query_text to test with a different query\n",
    "query_text = \"does my plan cover dental exam\"\n",
    "\n",
    "result = search_ai_search(query_text)\n",
    "print(json.dumps(result, indent=4))"
   ]
  },
  {
   "cell_type": "code",
   "execution_count": null,
   "id": "e8c5e066",
   "metadata": {},
   "outputs": [],
   "source": []
  }
 ],
 "metadata": {
  "kernelspec": {
   "display_name": ".venv",
   "language": "python",
   "name": "python3"
  },
  "language_info": {
   "codemirror_mode": {
    "name": "ipython",
    "version": 3
   },
   "file_extension": ".py",
   "mimetype": "text/x-python",
   "name": "python",
   "nbconvert_exporter": "python",
   "pygments_lexer": "ipython3",
   "version": "3.12.3"
  }
 },
 "nbformat": 4,
 "nbformat_minor": 5
}

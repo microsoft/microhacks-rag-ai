{
 "cells": [
  {
   "cell_type": "markdown",
   "metadata": {},
   "source": [
    "# Challenge 0: Environment Setup"
   ]
  },
  {
   "cell_type": "markdown",
   "metadata": {},
   "source": [
    "## Overview\n",
    "\n",
    "We will set up the initial environment for you to build on top of during your Microhack. This comprehensive setup includes configuring essential Azure services and ensuring access to all necessary resources. Participants will familiarize themselves with the architecture, gaining insights into how various components interact to create a cohesive solution. With the foundational environment in place, the focus will shift seamlessly to the first Microhack Challenge endeavor."
   ]
  },
  {
   "cell_type": "markdown",
   "metadata": {},
   "source": [
    "## Prerequisites\n",
    "- To have a subscription in [Azure](https://portal.azure.com/)\n",
    "- Initiate an [Azure AI services creation](https://portal.azure.com/#create/Microsoft.CognitiveServicesAllInOne) and agree to the Responsible AI terms **\n",
    "  - ** If you have not created an Azure AI service resource in the subscription before\n",
    "- To have an account in [GitHub](https://github.com/)\n",
    "- To have [VS Code](https://code.visualstudio.com/download) installed locally\n",
    "\n",
    "### Support Software\n",
    " - Azure Developer CLI: [Download azd](https://learn.microsoft.com/en-us/azure/developer/azure-developer-cli/install-azd?tabs=winget-windows%2Cbrew-mac%2Cscript-linux&pivots=os-windows) \n",
    "   - Ensure the correct OS is selected\n",
    " - Powershell 7+ with AZ module (Windows only): [Powershell](https://learn.microsoft.com/en-us/powershell/scripting/install/installing-powershell-on-windows?view=powershell-7.4#installing-the-msi-package), [AZ Module](https://learn.microsoft.com/en-us/powershell/azure/what-is-azure-powershell?view=azps-11.6.0#the-az-powershell-module)\n",
    " - Git: [Download Git](https://git-scm.com/downloads)\n",
    " - Node.js 16+ [windows/mac](https://nodejs.dev/en/download/)  [linux/wsl](https://nodejs.dev/en/download/package-manager/)\n",
    " - Python 3.11: [Download Python](https://www.python.org/downloads/release/python-3118/)\n"
   ]
  },
  {
   "cell_type": "markdown",
   "metadata": {},
   "source": [
    "## Setup Environment"
   ]
  },
  {
   "cell_type": "markdown",
   "metadata": {},
   "source": [
    "**IMPORTANT** - Update the below variables before running the following commands.\n",
    "- Example: \n",
    "  - environment_name=unique-name-123\n",
    "  - subscription_name=mysubscription\n",
    "  - region=northcentralus\n",
    "\n",
    "Recommended Regions:\n",
    "- North Central US (northcentralus)\n",
    "- South Central\tUS (southcentralus)\n",
    "- Sweden Central (swedencentral)\n",
    "- West US (westus)\n",
    "- West US 3 (westus3)\n",
    "- East US (eastus)\n",
    "- East US 2 (eastus2)\n",
    "- See [Regional Selection - gpt-4o, 2024-05-13](https://learn.microsoft.com/en-us/azure/ai-services/openai/concepts/models?tabs=global-standard%2Cstandard-chat-completions#standard-models-by-endpoint).  If you are having issues with the deployment"
   ]
  },
  {
   "cell_type": "code",
   "execution_count": null,
   "metadata": {},
   "outputs": [],
   "source": [
    "%%bash\n",
    "echo \"Logging in to Azure CLI\"\n",
    "az upgrade --yes\n",
    "az auth login --identity --use-device-code\n",
    "\n",
    "echo -e \"\\nSuccessfully logged in to Azure CLI\""
   ]
  },
  {
   "cell_type": "code",
   "execution_count": null,
   "metadata": {},
   "outputs": [],
   "source": [
    "%%bash\n",
    "echo \"Logging in to Azure Developer CLI\"\n",
    "azd auth login --use-device-code\n",
    "\n",
    "echo -e \"\\nSuccessfully logged in to Azure Developer CLI\" \n",
    "\n",
    "echo -e \"\\nUPDATE: Set the desired Azure CLI properties\"\n",
    "environment_name=ENVIRONMENT_NAME\n",
    "subscription_id=SUBSCRIPTION_ID\n",
    "region=REGION\n",
    "\n",
    "echo -e \"\\nCreating a new environment for Azure Developer CLI using the following properties: \\nEnvironment Name: $environment_name, \\nSubscription ID: $subscription_id, \\nRegion: $region\"\n",
    "cd ../..\n",
    "azd init -e $environment_name -s $subscription_id -l $region\n",
    "\n"
   ]
  },
  {
   "cell_type": "code",
   "execution_count": null,
   "metadata": {},
   "outputs": [],
   "source": [
    "%%bash\n",
    "echo \"UPDATE: Set the desired Azure CLI properties\"\n",
    "environment_name=ENVIRONMENT_NAME\n",
    "subscription_id=SUBSCRIPTION_ID\n",
    "region=REGION\n",
    "\n",
    "echo -e \"\\nCreating a new environment for Azure Developer CLI using the following properties: \\nEnvironment Name: $environment_name, \\nSubscription ID: $subscription_id, \\nRegion: $region\"\n",
    "cd ../..\n",
    "azd init -e $environment_name -s $subscription_id -l $region\n",
    "\n",
    "echo -e \"Creating Azure resources and deploying the applications\"\n",
    "azd up\n",
    "\n",
    "echo -e \"\\nSuccessfully created a new environment for Azure Developer CLI\""
   ]
  },
  {
   "cell_type": "code",
   "execution_count": null,
   "metadata": {},
   "outputs": [],
   "source": [
    "%%bash\n",
    "echo -e \"Creating Azure resources and deploying the applications\"\n",
    "cd ../..\n",
    "azd up\n",
    "\n",
    "echo -e \"\\nSuccessfully created Azure resources and deployed the applications\""
   ]
  },
  {
   "cell_type": "code",
   "execution_count": null,
   "metadata": {},
   "outputs": [],
   "source": [
    "%%bash\n",
    "echo \"Running the tests to confirm the deployment\"\n",
    "cd ../..\n",
    "azd show\n",
    "azd monitor\n",
    "\n",
    "echo -e \"\\nSuccessfully ran the tests to confirm the deployment\""
   ]
  },
  {
   "cell_type": "markdown",
   "metadata": {},
   "source": [
    "## Upload RAG Documents\n",
    "\n",
    "- Confirm successful deployment via Azure Portal\n",
    "- [Upload your documents](https://learn.microsoft.com/en-us/azure/storage/blobs/storage-quickstart-blobs-portal) to the **documents/** folder located in the storage account. The name of this account should start with **strag**. This is the default storage account.\n",
    "  - **Hint:** Only one Azure Storage account will contain a **documents** folder\n",
    "- Sample documents are in **samples/**. Upload all documents\n",
    "- Done!\n",
    "  - Optional: Open https://your-webapp-name.azurewebsites.net/ . Replace your-webapp-name with the Azure Web App resource name, webgpt0-resource-token. Attempt to ask the model about information in the uploaded documents. This should fail\n"
   ]
  },
  {
   "cell_type": "markdown",
   "metadata": {},
   "source": [
    "## Challenge 0 Complete!"
   ]
  }
 ],
 "metadata": {
  "kernelspec": {
   "display_name": ".venv",
   "language": "python",
   "name": "python3"
  },
  "language_info": {
   "codemirror_mode": {
    "name": "ipython",
    "version": 3
   },
   "file_extension": ".py",
   "mimetype": "text/x-python",
   "name": "python",
   "nbconvert_exporter": "python",
   "pygments_lexer": "ipython3",
   "version": "3.12.3"
  }
 },
 "nbformat": 4,
 "nbformat_minor": 2
}

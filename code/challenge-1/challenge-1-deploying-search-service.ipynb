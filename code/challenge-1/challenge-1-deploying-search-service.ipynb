{
 "cells": [
  {
   "cell_type": "markdown",
   "metadata": {},
   "source": [
    "# Challenge 1: Deploying Search Service"
   ]
  },
  {
   "cell_type": "markdown",
   "metadata": {},
   "source": [
    "## Overview\n",
    "Contoso, a leading enterprise in the technology sector, is embarking on a transformative project to enhance its data retrieval capabilities by deploying Azure AI Search. This initiative aims to streamline the vast amounts of information housed within Contoso's expansive digital ecosystem, providing faster and more accurate search results for its users. By leveraging Azure AI Search, Contoso hopes to improve customer experience, drive operational efficiency, and unlock actionable insights from their data repositories.\n",
    "Your Challenge is to deploy an Azure AI Search service into the Microhack environment to help Contoso achieve its business goals."
   ]
  },
  {
   "cell_type": "markdown",
   "metadata": {},
   "source": [
    "**IMPORTANT** - Update the below variables before running the following commands.\n",
    "\n",
    "- **Hint:** Name should be set as, search0-**resource token**\n",
    "\n",
    "- Example: \n",
    "  - resource_group_name=rg-uniquename-123\n",
    "  - service_name=search0-abcd1234\n",
    "  - region=northcentralus\n",
    "\n",
    "Recommended Regions:\n",
    "- North Central US (northcentralus)\n",
    "- South Central\tUS (southcentralus)\n",
    "- Sweden Central (swedencentral)\n",
    "- West US (westus)\n",
    "- West US 3 (westus3)\n",
    "- East US (eastus)\n",
    "- East US 2 (eastus2)\n",
    "- See [Azure AI Search regions](https://learn.microsoft.com/en-us/azure/search/search-region-support#azure-public-regions).  If you are having issues with the deployment"
   ]
  },
  {
   "cell_type": "markdown",
   "metadata": {},
   "source": [
    "## Deploying Azure AI Search Service"
   ]
  },
  {
   "cell_type": "code",
   "execution_count": null,
   "metadata": {},
   "outputs": [],
   "source": [
    "%%bash\n",
    "echo \"Logging in to Azure CLI\"\n",
    "az upgrade --yes\n",
    "az login --identity --use-device-code[=true]\n",
    "\n",
    "echo -e \"\\nSuccessfully logged in to Azure CLI\"\n",
    "echo -e \"\\nIMPORTANT: Ensure correct tenant is selected before proceeding\""
   ]
  },
  {
   "cell_type": "code",
   "execution_count": null,
   "metadata": {},
   "outputs": [],
   "source": [
    "%%bash\n",
    "echo \"UPDATE: Set the desired Azure tenant\"\n",
    "tentant_id=TENANT_ID\n",
    "\n",
    "echo -e \"\\nUsing tenant ID: \\n$tenant_id \\nto login to Azure CLI\"\n",
    "az login --tenant $tenant_id\n",
    "\n",
    "echo -e \"\\nSuccessfully set the desired Azure tenant\""
   ]
  },
  {
   "cell_type": "code",
   "execution_count": null,
   "metadata": {},
   "outputs": [],
   "source": [
    "%%bash\n",
    "echo \"UPDATE: Set the desired Azure AI Search service properties\"\n",
    "resource_group_name=RESOURCE_GROUP_NAME\n",
    "service_name=SERVICE_NAME\n",
    "region=REGION\n",
    "\n",
    "echo -e \"\\nDeploying Azure AI Search service using the following properties: \\nResource Group Name: $resource_group_name, \\nService Name: $service_name, \\nRegion: $region\"\n",
    "az search service create --name $service_name --resource-group $resource_group_name --sku Standard --location $region --partition-count 1 --replica-count 1 --identity-type SystemAssigned\n",
    "\n",
    "echo -e \"\\nSuccessfully deployed Azure AI Search service\""
   ]
  },
  {
   "cell_type": "code",
   "execution_count": null,
   "metadata": {},
   "outputs": [],
   "source": [
    "%%bash\n",
    "echo \"UPDATE: Set the desired Azure AI Search service properties\"\n",
    "resource_group_name=RESOURCE_GROUP_NAME\n",
    "service_name=SERVICE_NAME\n",
    "\n",
    "echo -e \"\\nShowing deployed Azure AI Search service using the following properties: \\nResource Group Name: $resource_group_name, \\nService Name: $service_name\"\n",
    "az search service show --name $service_name --resource-group $resource_group_name\n",
    "\n",
    "echo -e \"\\nSuccesfully showed deployed Azure AI Search service\""
   ]
  },
  {
   "cell_type": "markdown",
   "metadata": {},
   "source": [
    "## Challenge 1 Complete!"
   ]
  }
 ],
 "metadata": {
  "kernelspec": {
   "display_name": ".venv",
   "language": "python",
   "name": "python3"
  },
  "language_info": {
   "codemirror_mode": {
    "name": "ipython",
    "version": 3
   },
   "file_extension": ".py",
   "mimetype": "text/x-python",
   "name": "python",
   "nbconvert_exporter": "python",
   "pygments_lexer": "ipython3",
   "version": "3.12.3"
  }
 },
 "nbformat": 4,
 "nbformat_minor": 2
}
